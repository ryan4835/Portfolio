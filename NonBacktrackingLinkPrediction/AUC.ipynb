{
 "cells": [
  {
   "cell_type": "markdown",
   "metadata": {},
   "source": [
    "Experiment5 Erdos-Renyi AUC"
   ]
  },
  {
   "cell_type": "code",
   "execution_count": 1,
   "metadata": {},
   "outputs": [],
   "source": [
    "import numpy as np\n",
    "import networkx as nx\n",
    "import matplotlib as plt\n",
    "from scipy import sparse\n",
    "from NBTRsimilarity import similarity\n",
    "from sklearn import model_selection\n",
    "from sklearn import metrics\n",
    "from edge_predictor import edge_predictor"
   ]
  },
  {
   "cell_type": "code",
   "execution_count": 2,
   "metadata": {},
   "outputs": [
    {
     "name": "stderr",
     "output_type": "stream",
     "text": [
      "C:\\ProgramData\\Anaconda3\\lib\\site-packages\\networkx\\drawing\\nx_pylab.py:611: MatplotlibDeprecationWarning: isinstance(..., numbers.Number)\n",
      "  if cb.is_numlike(alpha):\n"
     ]
    }
   ],
   "source": [
    "G = nx.erdos_renyi_graph(10, 0.5, seed = 0)\n",
    "nx.draw(G, with_labels=True)\n"
   ]
  },
  {
   "cell_type": "code",
   "execution_count": 3,
   "metadata": {},
   "outputs": [],
   "source": [
    "A = nx.to_numpy_matrix(G)\n",
    "L = nx.laplacian_matrix(G)\n",
    "D = L + A\n",
    "I = np.identity(10)\n",
    "ones = np.array([1,1,1,1,1,1,1,1,1,1])\n"
   ]
  },
  {
   "cell_type": "code",
   "execution_count": 4,
   "metadata": {},
   "outputs": [],
   "source": [
    "t = 0.30627933416080155\n"
   ]
  },
  {
   "cell_type": "code",
   "execution_count": 5,
   "metadata": {},
   "outputs": [
    {
     "name": "stdout",
     "output_type": "stream",
     "text": [
      "[[ 1.37522812  0.          0.         -0.30627933 -0.30627933  0.\n",
      "  -0.30627933  0.         -0.30627933 -0.30627933]\n",
      " [ 0.          1.09380703  0.          0.          0.         -0.30627933\n",
      "   0.          0.         -0.30627933  0.        ]\n",
      " [ 0.          0.          1.          0.          0.          0.\n",
      "  -0.30627933  0.          0.          0.        ]\n",
      " [-0.30627933  0.          0.          1.28142109 -0.30627933 -0.30627933\n",
      "  -0.30627933  0.          0.          0.        ]\n",
      " [-0.30627933  0.          0.         -0.30627933  1.28142109 -0.30627933\n",
      "   0.         -0.30627933  0.          0.        ]\n",
      " [ 0.         -0.30627933  0.         -0.30627933 -0.30627933  1.37522812\n",
      "  -0.30627933  0.         -0.30627933  0.        ]\n",
      " [-0.30627933  0.         -0.30627933 -0.30627933  0.         -0.30627933\n",
      "   1.46903515  0.         -0.30627933 -0.30627933]\n",
      " [ 0.          0.          0.          0.         -0.30627933  0.\n",
      "   0.          1.09380703  0.         -0.30627933]\n",
      " [-0.30627933 -0.30627933  0.          0.          0.         -0.30627933\n",
      "  -0.30627933  0.          1.37522812 -0.30627933]\n",
      " [-0.30627933  0.          0.          0.          0.          0.\n",
      "  -0.30627933 -0.30627933 -0.30627933  1.28142109]]\n"
     ]
    }
   ],
   "source": [
    "M = I - (A * t) + (D - I)*(t**2)\n",
    "print(M)"
   ]
  },
  {
   "cell_type": "code",
   "execution_count": 6,
   "metadata": {},
   "outputs": [],
   "source": [
    "M_inv = np.linalg.inv(M)"
   ]
  },
  {
   "cell_type": "code",
   "execution_count": 7,
   "metadata": {},
   "outputs": [],
   "source": [
    "centrality = (1 - (t**2))*ones*M_inv"
   ]
  },
  {
   "cell_type": "code",
   "execution_count": 8,
   "metadata": {},
   "outputs": [
    {
     "data": {
      "text/plain": [
       "matrix([[-1.67441974e+15, -8.89125648e+14, -5.26959685e+14,\n",
       "         -1.49953253e+15, -1.31287839e+15, -1.56597327e+15,\n",
       "         -1.72051989e+15, -7.52936260e+14, -1.60933690e+15,\n",
       "         -1.37606234e+15]])"
      ]
     },
     "execution_count": 8,
     "metadata": {},
     "output_type": "execute_result"
    }
   ],
   "source": [
    "centrality"
   ]
  },
  {
   "cell_type": "code",
   "execution_count": 9,
   "metadata": {},
   "outputs": [],
   "source": [
    "NBRW = (1 - t**2)*M_inv"
   ]
  },
  {
   "cell_type": "code",
   "execution_count": 10,
   "metadata": {},
   "outputs": [],
   "source": [
    "#NBRW"
   ]
  },
  {
   "cell_type": "code",
   "execution_count": 11,
   "metadata": {},
   "outputs": [],
   "source": [
    "(i,j) = (1,2)\n",
    "similarity_score = NBRW[i,j] + NBRW[j,i]"
   ]
  },
  {
   "cell_type": "code",
   "execution_count": 12,
   "metadata": {},
   "outputs": [
    {
     "name": "stdout",
     "output_type": "stream",
     "text": [
      "-72484935932361.22\n"
     ]
    }
   ],
   "source": [
    "print(similarity_score)"
   ]
  },
  {
   "cell_type": "code",
   "execution_count": 13,
   "metadata": {},
   "outputs": [],
   "source": [
    "t_vec = np.linspace(0,1,100)\n",
    "#print(t_vec)"
   ]
  },
  {
   "cell_type": "code",
   "execution_count": 14,
   "metadata": {},
   "outputs": [
    {
     "data": {
      "text/plain": [
       "[<matplotlib.lines.Line2D at 0x1e9fc88d320>,\n",
       " <matplotlib.lines.Line2D at 0x1e9fc88d470>]"
      ]
     },
     "execution_count": 14,
     "metadata": {},
     "output_type": "execute_result"
    },
    {
     "data": {
      "image/png": "[encoded data removed]",
      "text/plain": [
       "<Figure size 432x288 with 1 Axes>"
      ]
     },
     "metadata": {
      "needs_background": "light"
     },
     "output_type": "display_data"
    }
   ],
   "source": [
    "similarity_score1 = np.array([])\n",
    "similarity_score2 = np.array([])\n",
    "for i in t_vec:\n",
    "    M1 = I - (A * i) + (D - I)*(i**2)\n",
    "    M1_inv = np.linalg.inv(M1)\n",
    "    NBRW1 = (1 - i**2)*M1_inv\n",
    "    (k,l) = (1,2)\n",
    "    similarity_score1 = np.append(similarity_score1,  NBRW1[k,l] + NBRW1[l,k])\n",
    "    similarity_score2 = np.append(similarity_score2,  NBRW1[0,3] + NBRW1[3,0])\n",
    "plt.pyplot.plot(t_vec, similarity_score1,t_vec, similarity_score2, label = True)"
   ]
  },
  {
   "cell_type": "code",
   "execution_count": 15,
   "metadata": {},
   "outputs": [
    {
     "name": "stdout",
     "output_type": "stream",
     "text": [
      "(0.30627933416080155+0j)\n"
     ]
    }
   ],
   "source": [
    "ro = nx.adjacency_spectrum(G)[0]\n",
    "1/ro\n",
    "C = np.block([[A,I-D],[I,np.zeros([10,10])]])\n",
    "lam = np.amax(np.linalg.eigvals(C))\n",
    "print(1/lam)"
   ]
  },
  {
   "cell_type": "code",
   "execution_count": 16,
   "metadata": {},
   "outputs": [
    {
     "name": "stdout",
     "output_type": "stream",
     "text": [
      "6.402177726618879 34.993553015088295\n"
     ]
    }
   ],
   "source": [
    "print(np.amax(similarity_score1),np.amax(similarity_score2))"
   ]
  },
  {
   "cell_type": "code",
   "execution_count": 17,
   "metadata": {},
   "outputs": [
    {
     "data": {
      "text/plain": [
       "{(2, 0): 0.027886848815258884,\n",
       " (2, 1): 0.005308647519081968,\n",
       " (2, 3): 0.025730760315688647,\n",
       " (2, 4): 0.00804701856407946,\n",
       " (2, 5): 0.025951349210792965,\n",
       " (2, 7): 0.0033153328682779186,\n",
       " (2, 8): 0.027665990731934917,\n",
       " (2, 9): 0.02543784340552752}"
      ]
     },
     "execution_count": 17,
     "metadata": {},
     "output_type": "execute_result"
    }
   ],
   "source": [
    "similarity(G, i = 2)"
   ]
  },
  {
   "cell_type": "code",
   "execution_count": 18,
   "metadata": {},
   "outputs": [
    {
     "data": {
      "text/plain": [
       "EdgeView([(0, 3), (0, 4), (0, 6), (0, 8), (0, 9), (1, 5), (1, 8), (2, 6), (3, 4), (3, 5), (3, 6), (4, 5), (4, 7), (5, 6), (5, 8), (6, 8), (6, 9), (7, 9), (8, 9)])"
      ]
     },
     "execution_count": 18,
     "metadata": {},
     "output_type": "execute_result"
    }
   ],
   "source": [
    "G.edges"
   ]
  },
  {
   "cell_type": "code",
   "execution_count": 19,
   "metadata": {},
   "outputs": [
    {
     "data": {
      "text/plain": [
       "([(0, 3),\n",
       "  (0, 4),\n",
       "  (0, 6),\n",
       "  (0, 8),\n",
       "  (0, 9),\n",
       "  (1, 5),\n",
       "  (1, 8),\n",
       "  (2, 6),\n",
       "  (3, 4),\n",
       "  (3, 5),\n",
       "  (3, 6),\n",
       "  (4, 5),\n",
       "  (4, 7),\n",
       "  (5, 6),\n",
       "  (5, 8),\n",
       "  (6, 8),\n",
       "  (6, 9),\n",
       "  (7, 9),\n",
       "  (8, 9)],\n",
       " [(0, 1),\n",
       "  (0, 2),\n",
       "  (0, 5),\n",
       "  (0, 7),\n",
       "  (1, 2),\n",
       "  (1, 3),\n",
       "  (1, 4),\n",
       "  (1, 6),\n",
       "  (1, 7),\n",
       "  (1, 9),\n",
       "  (2, 3),\n",
       "  (2, 4),\n",
       "  (2, 5),\n",
       "  (2, 7),\n",
       "  (2, 8),\n",
       "  (2, 9),\n",
       "  (3, 7),\n",
       "  (3, 8),\n",
       "  (3, 9),\n",
       "  (4, 6),\n",
       "  (4, 8),\n",
       "  (4, 9),\n",
       "  (5, 7),\n",
       "  (5, 9),\n",
       "  (6, 7),\n",
       "  (7, 8)])"
      ]
     },
     "execution_count": 19,
     "metadata": {},
     "output_type": "execute_result"
    }
   ],
   "source": [
    "E = []\n",
    "G_complete = nx.complete_graph(G.number_of_nodes())\n",
    "E_C = []\n",
    "for j in G_complete.edges:\n",
    "    if j in G.edges:\n",
    "        E.append(j)\n",
    "    else:\n",
    "        E_C.append(j)\n",
    "E,E_C"
   ]
  },
  {
   "cell_type": "code",
   "execution_count": 50,
   "metadata": {},
   "outputs": [],
   "source": [
    "E_T, E_P = model_selection.train_test_split(E, test_size = 0.1)\n",
    "E_C = E_C + E_P"
   ]
  },
  {
   "cell_type": "code",
   "execution_count": 21,
   "metadata": {},
   "outputs": [
    {
     "data": {
      "text/plain": [
       "[(5, 6), (0, 9)]"
      ]
     },
     "execution_count": 21,
     "metadata": {},
     "output_type": "execute_result"
    }
   ],
   "source": [
    "#Missing Edges\n",
    "E_P"
   ]
  },
  {
   "cell_type": "code",
   "execution_count": 62,
   "metadata": {},
   "outputs": [],
   "source": [
    "G_T = nx.Graph(E_T)"
   ]
  },
  {
   "cell_type": "code",
   "execution_count": 63,
   "metadata": {},
   "outputs": [
    {
     "data": {
      "text/plain": [
       "{(0, 1): 0.22519591025725527,\n",
       " (0, 5): 0.253178057503503,\n",
       " (0, 7): 0.23266975805115844,\n",
       " (0, 2): 0.03488449157213422,\n",
       " (1, 9): 0.005030191388896266,\n",
       " (1, 3): 0.03488449157213421,\n",
       " (1, 6): 0.050301913888962664,\n",
       " (1, 4): 0.2251061897378178,\n",
       " (1, 7): 0.028725835619460554,\n",
       " (1, 2): 0.025741651614846737,\n",
       " (5, 9): 0.02529905251942549,\n",
       " (5, 7): 0.24769185685924877,\n",
       " (3, 9): 0.025501075961660943,\n",
       " (3, 8): 0.023266975805115848,\n",
       " (3, 7): 0.23266975805115847,\n",
       " (6, 9): 0.20209757878727563,\n",
       " (6, 7): 0.07480510239485036,\n",
       " (4, 9): 0.025303857066191357,\n",
       " (4, 8): 0.005746118170539313,\n",
       " (4, 6): 0.25303857066191354,\n",
       " (7, 9): 0.007480510239485039,\n",
       " (7, 8): 0.20110815071530952,\n",
       " (2, 9): 0.005030191388896267,\n",
       " (2, 5): 0.03292312148910804,\n",
       " (2, 8): 0.0028725835619460554,\n",
       " (2, 3): 0.2251959102572553,\n",
       " (2, 4): 0.22510618973781782,\n",
       " (2, 7): 0.02872583561946055}"
      ]
     },
     "execution_count": 63,
     "metadata": {},
     "output_type": "execute_result"
    }
   ],
   "source": [
    "edge_predictor(G_T)"
   ]
  },
  {
   "cell_type": "code",
   "execution_count": 64,
   "metadata": {},
   "outputs": [],
   "source": [
    "d = edge_predictor(G_T)"
   ]
  },
  {
   "cell_type": "code",
   "execution_count": 65,
   "metadata": {},
   "outputs": [],
   "source": [
    "import random\n"
   ]
  },
  {
   "cell_type": "code",
   "execution_count": 66,
   "metadata": {},
   "outputs": [
    {
     "data": {
      "text/plain": [
       "([(0, 1),\n",
       "  (0, 2),\n",
       "  (0, 5),\n",
       "  (0, 7),\n",
       "  (1, 2),\n",
       "  (1, 3),\n",
       "  (1, 4),\n",
       "  (1, 6),\n",
       "  (1, 7),\n",
       "  (1, 9),\n",
       "  (2, 3),\n",
       "  (2, 4),\n",
       "  (2, 5),\n",
       "  (2, 7),\n",
       "  (2, 8),\n",
       "  (2, 9),\n",
       "  (3, 7),\n",
       "  (3, 8),\n",
       "  (3, 9),\n",
       "  (4, 6),\n",
       "  (4, 8),\n",
       "  (4, 9),\n",
       "  (5, 7),\n",
       "  (5, 9),\n",
       "  (6, 7),\n",
       "  (7, 8),\n",
       "  (6, 9),\n",
       "  (7, 9)],\n",
       " [(6, 9), (7, 9)])"
      ]
     },
     "execution_count": 66,
     "metadata": {},
     "output_type": "execute_result"
    }
   ],
   "source": [
    "E_C, E_P"
   ]
  },
  {
   "cell_type": "code",
   "execution_count": 75,
   "metadata": {},
   "outputs": [],
   "source": [
    "y_true = [] \n",
    "y_scores = []\n",
    "for i in E_C:\n",
    "    \n",
    "    y_scores.append(d[i])\n",
    "    if i in E_P:\n",
    "        y_true.append(1)\n",
    "        \n",
    "    else:\n",
    "        y_true.append(0)\n",
    "\n"
   ]
  },
  {
   "cell_type": "code",
   "execution_count": 76,
   "metadata": {},
   "outputs": [
    {
     "data": {
      "text/plain": [
       "0.40384615384615385"
      ]
     },
     "execution_count": 76,
     "metadata": {},
     "output_type": "execute_result"
    }
   ],
   "source": [
    "metrics.roc_auc_score(y_true, y_scores)"
   ]
  },
  {
   "cell_type": "code",
   "execution_count": 77,
   "metadata": {},
   "outputs": [],
   "source": [
    "from AUC import AUC_score"
   ]
  },
  {
   "cell_type": "code",
   "execution_count": 78,
   "metadata": {},
   "outputs": [
    {
     "data": {
      "text/plain": [
       "0.40384615384615385"
      ]
     },
     "execution_count": 78,
     "metadata": {},
     "output_type": "execute_result"
    }
   ],
   "source": [
    "AUC_score(d,E_C, E_P)"
   ]
  },
  {
   "cell_type": "code",
   "execution_count": 79,
   "metadata": {},
   "outputs": [],
   "source": [
    "#Expected low score because its a random graph by definition"
   ]
  },
  {
   "cell_type": "code",
   "execution_count": null,
   "metadata": {},
   "outputs": [],
   "source": []
  }
 ],
 "metadata": {
  "kernelspec": {
   "display_name": "Python 3",
   "language": "python",
   "name": "python3"
  },
  "language_info": {
   "codemirror_mode": {
    "name": "ipython",
    "version": 3
   },
   "file_extension": ".py",
   "mimetype": "text/x-python",
   "name": "python",
   "nbconvert_exporter": "python",
   "pygments_lexer": "ipython3",
   "version": "3.7.1"
  }
 },
 "nbformat": 4,
 "nbformat_minor": 2
}
